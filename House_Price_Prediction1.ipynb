{
  "cells": [
    {
      "cell_type": "markdown",
      "metadata": {
        "id": "zg-8TWJptdzi"
      },
      "source": [
        "#**importing libraries**"
      ]
    },
    {
      "cell_type": "code",
      "execution_count": null,
      "metadata": {
        "id": "VdNkpeUEhgz1"
      },
      "outputs": [],
      "source": [
        "import numpy as np\n",
        "import pandas as pd\n",
        "import matplotlib.pyplot as plt\n",
        "import seaborn as sns\n",
        "from sklearn.model_selection import train_test_split\n",
        "from sklearn.preprocessing import StandardScaler\n",
        "from sklearn.linear_model import LinearRegression\n",
        "from sklearn.ensemble import RandomForestRegressor\n",
        "from xgboost import XGBRegressor"
      ]
    },
    {
      "cell_type": "markdown",
      "metadata": {
        "id": "zn7J2fWzvf4P"
      },
      "source": [
        "#**data cleaning**"
      ]
    },
    {
      "cell_type": "code",
      "execution_count": null,
      "metadata": {
        "colab": {
          "base_uri": "https://localhost:8080/",
          "height": 661
        },
        "id": "Wl_P3p0KlPhb",
        "outputId": "206f9be3-dd17-4400-d5c9-6c91e54e2a32"
      },
      "outputs": [
        {
          "output_type": "execute_result",
          "data": {
            "text/plain": [
              "      PRT_ID        AREA  INT_SQFT   DATE_SALE  DIST_MAINROAD  N_BEDROOM  \\\n",
              "0     P03210  Karapakkam      1004  04-05-2011            131        1.0   \n",
              "1     P09411  Anna Nagar      1986  19-12-2006             26        2.0   \n",
              "2     P01812       Adyar       909  04-02-2012             70        1.0   \n",
              "3     P05346   Velachery      1855  13-03-2010             14        3.0   \n",
              "4     P06210  Karapakkam      1226  05-10-2009             84        1.0   \n",
              "...      ...         ...       ...         ...            ...        ...   \n",
              "7104  P03834  Karapakkam       598  03-01-2011             51        1.0   \n",
              "7105  P10000   Velachery      1897  08-04-2004             52        3.0   \n",
              "7106  P09594   Velachery      1614  25-08-2006            152        2.0   \n",
              "7107  P06508  Karapakkam       787  03-08-2009             40        1.0   \n",
              "7108  P09794   Velachery      1896  13-07-2005            156        3.0   \n",
              "\n",
              "      N_BATHROOM  N_ROOM    SALE_COND PARK_FACIL  ... UTILITY_AVAIL  \\\n",
              "0            1.0       3     AbNormal        Yes  ...        AllPub   \n",
              "1            1.0       5     AbNormal         No  ...        AllPub   \n",
              "2            1.0       3     AbNormal        Yes  ...           ELO   \n",
              "3            2.0       5       Family         No  ...       NoSewr    \n",
              "4            1.0       3     AbNormal        Yes  ...        AllPub   \n",
              "...          ...     ...          ...        ...  ...           ...   \n",
              "7104         1.0       2      AdjLand         No  ...           ELO   \n",
              "7105         2.0       5       Family        Yes  ...        NoSeWa   \n",
              "7106         1.0       4  Normal Sale         No  ...        NoSeWa   \n",
              "7107         1.0       2      Partial        Yes  ...           ELO   \n",
              "7108         2.0       5      Partial        Yes  ...           ELO   \n",
              "\n",
              "         STREET MZZONE QS_ROOMS QS_BATHROOM  QS_BEDROOM  QS_OVERALL  REG_FEE  \\\n",
              "0         Paved      A      4.0         3.9         4.9       4.330   380000   \n",
              "1        Gravel     RH      4.9         4.2         2.5       3.765   760122   \n",
              "2        Gravel     RL      4.1         3.8         2.2       3.090   421094   \n",
              "3         Paved      I      4.7         3.9         3.6       4.010   356321   \n",
              "4        Gravel      C      3.0         2.5         4.1       3.290   237000   \n",
              "...         ...    ...      ...         ...         ...         ...      ...   \n",
              "7104  No Access     RM      3.0         2.2         2.4       2.520   208767   \n",
              "7105  No Access     RH      3.6         4.5         3.3       3.920   346191   \n",
              "7106     Gravel      I      4.3         4.2         2.9       3.840   317354   \n",
              "7107      Paved     RL      4.6         3.8         4.1       4.160   425350   \n",
              "7108      Paved      I      3.1         3.5         4.3       3.640   349177   \n",
              "\n",
              "      COMMIS  SALES_PRICE  \n",
              "0     144400      7600000  \n",
              "1     304049     21717770  \n",
              "2      92114     13159200  \n",
              "3      77042      9630290  \n",
              "4      74063      7406250  \n",
              "...      ...          ...  \n",
              "7104  107060      5353000  \n",
              "7105  205551     10818480  \n",
              "7106  167028      8351410  \n",
              "7107  119098      8507000  \n",
              "7108   79812      9976480  \n",
              "\n",
              "[7109 rows x 22 columns]"
            ],
            "text/html": [
              "\n",
              "  <div id=\"df-8065ba39-c3d2-4dab-bec0-f0b09634abfd\">\n",
              "    <div class=\"colab-df-container\">\n",
              "      <div>\n",
              "<style scoped>\n",
              "    .dataframe tbody tr th:only-of-type {\n",
              "        vertical-align: middle;\n",
              "    }\n",
              "\n",
              "    .dataframe tbody tr th {\n",
              "        vertical-align: top;\n",
              "    }\n",
              "\n",
              "    .dataframe thead th {\n",
              "        text-align: right;\n",
              "    }\n",
              "</style>\n",
              "<table border=\"1\" class=\"dataframe\">\n",
              "  <thead>\n",
              "    <tr style=\"text-align: right;\">\n",
              "      <th></th>\n",
              "      <th>PRT_ID</th>\n",
              "      <th>AREA</th>\n",
              "      <th>INT_SQFT</th>\n",
              "      <th>DATE_SALE</th>\n",
              "      <th>DIST_MAINROAD</th>\n",
              "      <th>N_BEDROOM</th>\n",
              "      <th>N_BATHROOM</th>\n",
              "      <th>N_ROOM</th>\n",
              "      <th>SALE_COND</th>\n",
              "      <th>PARK_FACIL</th>\n",
              "      <th>...</th>\n",
              "      <th>UTILITY_AVAIL</th>\n",
              "      <th>STREET</th>\n",
              "      <th>MZZONE</th>\n",
              "      <th>QS_ROOMS</th>\n",
              "      <th>QS_BATHROOM</th>\n",
              "      <th>QS_BEDROOM</th>\n",
              "      <th>QS_OVERALL</th>\n",
              "      <th>REG_FEE</th>\n",
              "      <th>COMMIS</th>\n",
              "      <th>SALES_PRICE</th>\n",
              "    </tr>\n",
              "  </thead>\n",
              "  <tbody>\n",
              "    <tr>\n",
              "      <th>0</th>\n",
              "      <td>P03210</td>\n",
              "      <td>Karapakkam</td>\n",
              "      <td>1004</td>\n",
              "      <td>04-05-2011</td>\n",
              "      <td>131</td>\n",
              "      <td>1.0</td>\n",
              "      <td>1.0</td>\n",
              "      <td>3</td>\n",
              "      <td>AbNormal</td>\n",
              "      <td>Yes</td>\n",
              "      <td>...</td>\n",
              "      <td>AllPub</td>\n",
              "      <td>Paved</td>\n",
              "      <td>A</td>\n",
              "      <td>4.0</td>\n",
              "      <td>3.9</td>\n",
              "      <td>4.9</td>\n",
              "      <td>4.330</td>\n",
              "      <td>380000</td>\n",
              "      <td>144400</td>\n",
              "      <td>7600000</td>\n",
              "    </tr>\n",
              "    <tr>\n",
              "      <th>1</th>\n",
              "      <td>P09411</td>\n",
              "      <td>Anna Nagar</td>\n",
              "      <td>1986</td>\n",
              "      <td>19-12-2006</td>\n",
              "      <td>26</td>\n",
              "      <td>2.0</td>\n",
              "      <td>1.0</td>\n",
              "      <td>5</td>\n",
              "      <td>AbNormal</td>\n",
              "      <td>No</td>\n",
              "      <td>...</td>\n",
              "      <td>AllPub</td>\n",
              "      <td>Gravel</td>\n",
              "      <td>RH</td>\n",
              "      <td>4.9</td>\n",
              "      <td>4.2</td>\n",
              "      <td>2.5</td>\n",
              "      <td>3.765</td>\n",
              "      <td>760122</td>\n",
              "      <td>304049</td>\n",
              "      <td>21717770</td>\n",
              "    </tr>\n",
              "    <tr>\n",
              "      <th>2</th>\n",
              "      <td>P01812</td>\n",
              "      <td>Adyar</td>\n",
              "      <td>909</td>\n",
              "      <td>04-02-2012</td>\n",
              "      <td>70</td>\n",
              "      <td>1.0</td>\n",
              "      <td>1.0</td>\n",
              "      <td>3</td>\n",
              "      <td>AbNormal</td>\n",
              "      <td>Yes</td>\n",
              "      <td>...</td>\n",
              "      <td>ELO</td>\n",
              "      <td>Gravel</td>\n",
              "      <td>RL</td>\n",
              "      <td>4.1</td>\n",
              "      <td>3.8</td>\n",
              "      <td>2.2</td>\n",
              "      <td>3.090</td>\n",
              "      <td>421094</td>\n",
              "      <td>92114</td>\n",
              "      <td>13159200</td>\n",
              "    </tr>\n",
              "    <tr>\n",
              "      <th>3</th>\n",
              "      <td>P05346</td>\n",
              "      <td>Velachery</td>\n",
              "      <td>1855</td>\n",
              "      <td>13-03-2010</td>\n",
              "      <td>14</td>\n",
              "      <td>3.0</td>\n",
              "      <td>2.0</td>\n",
              "      <td>5</td>\n",
              "      <td>Family</td>\n",
              "      <td>No</td>\n",
              "      <td>...</td>\n",
              "      <td>NoSewr</td>\n",
              "      <td>Paved</td>\n",
              "      <td>I</td>\n",
              "      <td>4.7</td>\n",
              "      <td>3.9</td>\n",
              "      <td>3.6</td>\n",
              "      <td>4.010</td>\n",
              "      <td>356321</td>\n",
              "      <td>77042</td>\n",
              "      <td>9630290</td>\n",
              "    </tr>\n",
              "    <tr>\n",
              "      <th>4</th>\n",
              "      <td>P06210</td>\n",
              "      <td>Karapakkam</td>\n",
              "      <td>1226</td>\n",
              "      <td>05-10-2009</td>\n",
              "      <td>84</td>\n",
              "      <td>1.0</td>\n",
              "      <td>1.0</td>\n",
              "      <td>3</td>\n",
              "      <td>AbNormal</td>\n",
              "      <td>Yes</td>\n",
              "      <td>...</td>\n",
              "      <td>AllPub</td>\n",
              "      <td>Gravel</td>\n",
              "      <td>C</td>\n",
              "      <td>3.0</td>\n",
              "      <td>2.5</td>\n",
              "      <td>4.1</td>\n",
              "      <td>3.290</td>\n",
              "      <td>237000</td>\n",
              "      <td>74063</td>\n",
              "      <td>7406250</td>\n",
              "    </tr>\n",
              "    <tr>\n",
              "      <th>...</th>\n",
              "      <td>...</td>\n",
              "      <td>...</td>\n",
              "      <td>...</td>\n",
              "      <td>...</td>\n",
              "      <td>...</td>\n",
              "      <td>...</td>\n",
              "      <td>...</td>\n",
              "      <td>...</td>\n",
              "      <td>...</td>\n",
              "      <td>...</td>\n",
              "      <td>...</td>\n",
              "      <td>...</td>\n",
              "      <td>...</td>\n",
              "      <td>...</td>\n",
              "      <td>...</td>\n",
              "      <td>...</td>\n",
              "      <td>...</td>\n",
              "      <td>...</td>\n",
              "      <td>...</td>\n",
              "      <td>...</td>\n",
              "      <td>...</td>\n",
              "    </tr>\n",
              "    <tr>\n",
              "      <th>7104</th>\n",
              "      <td>P03834</td>\n",
              "      <td>Karapakkam</td>\n",
              "      <td>598</td>\n",
              "      <td>03-01-2011</td>\n",
              "      <td>51</td>\n",
              "      <td>1.0</td>\n",
              "      <td>1.0</td>\n",
              "      <td>2</td>\n",
              "      <td>AdjLand</td>\n",
              "      <td>No</td>\n",
              "      <td>...</td>\n",
              "      <td>ELO</td>\n",
              "      <td>No Access</td>\n",
              "      <td>RM</td>\n",
              "      <td>3.0</td>\n",
              "      <td>2.2</td>\n",
              "      <td>2.4</td>\n",
              "      <td>2.520</td>\n",
              "      <td>208767</td>\n",
              "      <td>107060</td>\n",
              "      <td>5353000</td>\n",
              "    </tr>\n",
              "    <tr>\n",
              "      <th>7105</th>\n",
              "      <td>P10000</td>\n",
              "      <td>Velachery</td>\n",
              "      <td>1897</td>\n",
              "      <td>08-04-2004</td>\n",
              "      <td>52</td>\n",
              "      <td>3.0</td>\n",
              "      <td>2.0</td>\n",
              "      <td>5</td>\n",
              "      <td>Family</td>\n",
              "      <td>Yes</td>\n",
              "      <td>...</td>\n",
              "      <td>NoSeWa</td>\n",
              "      <td>No Access</td>\n",
              "      <td>RH</td>\n",
              "      <td>3.6</td>\n",
              "      <td>4.5</td>\n",
              "      <td>3.3</td>\n",
              "      <td>3.920</td>\n",
              "      <td>346191</td>\n",
              "      <td>205551</td>\n",
              "      <td>10818480</td>\n",
              "    </tr>\n",
              "    <tr>\n",
              "      <th>7106</th>\n",
              "      <td>P09594</td>\n",
              "      <td>Velachery</td>\n",
              "      <td>1614</td>\n",
              "      <td>25-08-2006</td>\n",
              "      <td>152</td>\n",
              "      <td>2.0</td>\n",
              "      <td>1.0</td>\n",
              "      <td>4</td>\n",
              "      <td>Normal Sale</td>\n",
              "      <td>No</td>\n",
              "      <td>...</td>\n",
              "      <td>NoSeWa</td>\n",
              "      <td>Gravel</td>\n",
              "      <td>I</td>\n",
              "      <td>4.3</td>\n",
              "      <td>4.2</td>\n",
              "      <td>2.9</td>\n",
              "      <td>3.840</td>\n",
              "      <td>317354</td>\n",
              "      <td>167028</td>\n",
              "      <td>8351410</td>\n",
              "    </tr>\n",
              "    <tr>\n",
              "      <th>7107</th>\n",
              "      <td>P06508</td>\n",
              "      <td>Karapakkam</td>\n",
              "      <td>787</td>\n",
              "      <td>03-08-2009</td>\n",
              "      <td>40</td>\n",
              "      <td>1.0</td>\n",
              "      <td>1.0</td>\n",
              "      <td>2</td>\n",
              "      <td>Partial</td>\n",
              "      <td>Yes</td>\n",
              "      <td>...</td>\n",
              "      <td>ELO</td>\n",
              "      <td>Paved</td>\n",
              "      <td>RL</td>\n",
              "      <td>4.6</td>\n",
              "      <td>3.8</td>\n",
              "      <td>4.1</td>\n",
              "      <td>4.160</td>\n",
              "      <td>425350</td>\n",
              "      <td>119098</td>\n",
              "      <td>8507000</td>\n",
              "    </tr>\n",
              "    <tr>\n",
              "      <th>7108</th>\n",
              "      <td>P09794</td>\n",
              "      <td>Velachery</td>\n",
              "      <td>1896</td>\n",
              "      <td>13-07-2005</td>\n",
              "      <td>156</td>\n",
              "      <td>3.0</td>\n",
              "      <td>2.0</td>\n",
              "      <td>5</td>\n",
              "      <td>Partial</td>\n",
              "      <td>Yes</td>\n",
              "      <td>...</td>\n",
              "      <td>ELO</td>\n",
              "      <td>Paved</td>\n",
              "      <td>I</td>\n",
              "      <td>3.1</td>\n",
              "      <td>3.5</td>\n",
              "      <td>4.3</td>\n",
              "      <td>3.640</td>\n",
              "      <td>349177</td>\n",
              "      <td>79812</td>\n",
              "      <td>9976480</td>\n",
              "    </tr>\n",
              "  </tbody>\n",
              "</table>\n",
              "<p>7109 rows × 22 columns</p>\n",
              "</div>\n",
              "      <button class=\"colab-df-convert\" onclick=\"convertToInteractive('df-8065ba39-c3d2-4dab-bec0-f0b09634abfd')\"\n",
              "              title=\"Convert this dataframe to an interactive table.\"\n",
              "              style=\"display:none;\">\n",
              "        \n",
              "  <svg xmlns=\"http://www.w3.org/2000/svg\" height=\"24px\"viewBox=\"0 0 24 24\"\n",
              "       width=\"24px\">\n",
              "    <path d=\"M0 0h24v24H0V0z\" fill=\"none\"/>\n",
              "    <path d=\"M18.56 5.44l.94 2.06.94-2.06 2.06-.94-2.06-.94-.94-2.06-.94 2.06-2.06.94zm-11 1L8.5 8.5l.94-2.06 2.06-.94-2.06-.94L8.5 2.5l-.94 2.06-2.06.94zm10 10l.94 2.06.94-2.06 2.06-.94-2.06-.94-.94-2.06-.94 2.06-2.06.94z\"/><path d=\"M17.41 7.96l-1.37-1.37c-.4-.4-.92-.59-1.43-.59-.52 0-1.04.2-1.43.59L10.3 9.45l-7.72 7.72c-.78.78-.78 2.05 0 2.83L4 21.41c.39.39.9.59 1.41.59.51 0 1.02-.2 1.41-.59l7.78-7.78 2.81-2.81c.8-.78.8-2.07 0-2.86zM5.41 20L4 18.59l7.72-7.72 1.47 1.35L5.41 20z\"/>\n",
              "  </svg>\n",
              "      </button>\n",
              "      \n",
              "  <style>\n",
              "    .colab-df-container {\n",
              "      display:flex;\n",
              "      flex-wrap:wrap;\n",
              "      gap: 12px;\n",
              "    }\n",
              "\n",
              "    .colab-df-convert {\n",
              "      background-color: #E8F0FE;\n",
              "      border: none;\n",
              "      border-radius: 50%;\n",
              "      cursor: pointer;\n",
              "      display: none;\n",
              "      fill: #1967D2;\n",
              "      height: 32px;\n",
              "      padding: 0 0 0 0;\n",
              "      width: 32px;\n",
              "    }\n",
              "\n",
              "    .colab-df-convert:hover {\n",
              "      background-color: #E2EBFA;\n",
              "      box-shadow: 0px 1px 2px rgba(60, 64, 67, 0.3), 0px 1px 3px 1px rgba(60, 64, 67, 0.15);\n",
              "      fill: #174EA6;\n",
              "    }\n",
              "\n",
              "    [theme=dark] .colab-df-convert {\n",
              "      background-color: #3B4455;\n",
              "      fill: #D2E3FC;\n",
              "    }\n",
              "\n",
              "    [theme=dark] .colab-df-convert:hover {\n",
              "      background-color: #434B5C;\n",
              "      box-shadow: 0px 1px 3px 1px rgba(0, 0, 0, 0.15);\n",
              "      filter: drop-shadow(0px 1px 2px rgba(0, 0, 0, 0.3));\n",
              "      fill: #FFFFFF;\n",
              "    }\n",
              "  </style>\n",
              "\n",
              "      <script>\n",
              "        const buttonEl =\n",
              "          document.querySelector('#df-8065ba39-c3d2-4dab-bec0-f0b09634abfd button.colab-df-convert');\n",
              "        buttonEl.style.display =\n",
              "          google.colab.kernel.accessAllowed ? 'block' : 'none';\n",
              "\n",
              "        async function convertToInteractive(key) {\n",
              "          const element = document.querySelector('#df-8065ba39-c3d2-4dab-bec0-f0b09634abfd');\n",
              "          const dataTable =\n",
              "            await google.colab.kernel.invokeFunction('convertToInteractive',\n",
              "                                                     [key], {});\n",
              "          if (!dataTable) return;\n",
              "\n",
              "          const docLinkHtml = 'Like what you see? Visit the ' +\n",
              "            '<a target=\"_blank\" href=https://colab.research.google.com/notebooks/data_table.ipynb>data table notebook</a>'\n",
              "            + ' to learn more about interactive tables.';\n",
              "          element.innerHTML = '';\n",
              "          dataTable['output_type'] = 'display_data';\n",
              "          await google.colab.output.renderOutput(dataTable, element);\n",
              "          const docLink = document.createElement('div');\n",
              "          docLink.innerHTML = docLinkHtml;\n",
              "          element.appendChild(docLink);\n",
              "        }\n",
              "      </script>\n",
              "    </div>\n",
              "  </div>\n",
              "  "
            ]
          },
          "metadata": {},
          "execution_count": 2
        }
      ],
      "source": [
        "#Reading the dataset\n",
        "df=pd.read_csv(\"train-chennai-sale.csv\")\n",
        "df"
      ]
    },
    {
      "cell_type": "code",
      "execution_count": null,
      "metadata": {
        "colab": {
          "base_uri": "https://localhost:8080/",
          "height": 364
        },
        "id": "fWAmh2xsWfhU",
        "outputId": "9983c7e3-20a0-4ccf-d966-135feb4336a6"
      },
      "outputs": [
        {
          "output_type": "execute_result",
          "data": {
            "text/plain": [
              "          INT_SQFT  DIST_MAINROAD    N_BEDROOM   N_BATHROOM       N_ROOM  \\\n",
              "count  7109.000000    7109.000000  7108.000000  7104.000000  7109.000000   \n",
              "mean   1382.073006      99.603179     1.637029     1.213260     3.688704   \n",
              "std     457.410902      57.403110     0.802902     0.409639     1.019099   \n",
              "min     500.000000       0.000000     1.000000     1.000000     2.000000   \n",
              "25%     993.000000      50.000000     1.000000     1.000000     3.000000   \n",
              "50%    1373.000000      99.000000     1.000000     1.000000     4.000000   \n",
              "75%    1744.000000     148.000000     2.000000     1.000000     4.000000   \n",
              "max    2500.000000     200.000000     4.000000     2.000000     6.000000   \n",
              "\n",
              "          QS_ROOMS  QS_BATHROOM   QS_BEDROOM   QS_OVERALL        REG_FEE  \\\n",
              "count  7109.000000  7109.000000  7109.000000  7061.000000    7109.000000   \n",
              "mean      3.517471     3.507244     3.485300     3.503254  376938.330708   \n",
              "std       0.891972     0.897834     0.887266     0.527223  143070.662010   \n",
              "min       2.000000     2.000000     2.000000     2.000000   71177.000000   \n",
              "25%       2.700000     2.700000     2.700000     3.130000  272406.000000   \n",
              "50%       3.500000     3.500000     3.500000     3.500000  349486.000000   \n",
              "75%       4.300000     4.300000     4.300000     3.890000  451562.000000   \n",
              "max       5.000000     5.000000     5.000000     4.970000  983922.000000   \n",
              "\n",
              "              COMMIS   SALES_PRICE  \n",
              "count    7109.000000  7.109000e+03  \n",
              "mean   141005.726544  1.089491e+07  \n",
              "std     78768.093718  3.768603e+06  \n",
              "min      5055.000000  2.156875e+06  \n",
              "25%     84219.000000  8.272100e+06  \n",
              "50%    127628.000000  1.033505e+07  \n",
              "75%    184506.000000  1.299390e+07  \n",
              "max    495405.000000  2.366734e+07  "
            ],
            "text/html": [
              "\n",
              "  <div id=\"df-e995e155-e8ba-4b5d-9730-1157c6f6088a\">\n",
              "    <div class=\"colab-df-container\">\n",
              "      <div>\n",
              "<style scoped>\n",
              "    .dataframe tbody tr th:only-of-type {\n",
              "        vertical-align: middle;\n",
              "    }\n",
              "\n",
              "    .dataframe tbody tr th {\n",
              "        vertical-align: top;\n",
              "    }\n",
              "\n",
              "    .dataframe thead th {\n",
              "        text-align: right;\n",
              "    }\n",
              "</style>\n",
              "<table border=\"1\" class=\"dataframe\">\n",
              "  <thead>\n",
              "    <tr style=\"text-align: right;\">\n",
              "      <th></th>\n",
              "      <th>INT_SQFT</th>\n",
              "      <th>DIST_MAINROAD</th>\n",
              "      <th>N_BEDROOM</th>\n",
              "      <th>N_BATHROOM</th>\n",
              "      <th>N_ROOM</th>\n",
              "      <th>QS_ROOMS</th>\n",
              "      <th>QS_BATHROOM</th>\n",
              "      <th>QS_BEDROOM</th>\n",
              "      <th>QS_OVERALL</th>\n",
              "      <th>REG_FEE</th>\n",
              "      <th>COMMIS</th>\n",
              "      <th>SALES_PRICE</th>\n",
              "    </tr>\n",
              "  </thead>\n",
              "  <tbody>\n",
              "    <tr>\n",
              "      <th>count</th>\n",
              "      <td>7109.000000</td>\n",
              "      <td>7109.000000</td>\n",
              "      <td>7108.000000</td>\n",
              "      <td>7104.000000</td>\n",
              "      <td>7109.000000</td>\n",
              "      <td>7109.000000</td>\n",
              "      <td>7109.000000</td>\n",
              "      <td>7109.000000</td>\n",
              "      <td>7061.000000</td>\n",
              "      <td>7109.000000</td>\n",
              "      <td>7109.000000</td>\n",
              "      <td>7.109000e+03</td>\n",
              "    </tr>\n",
              "    <tr>\n",
              "      <th>mean</th>\n",
              "      <td>1382.073006</td>\n",
              "      <td>99.603179</td>\n",
              "      <td>1.637029</td>\n",
              "      <td>1.213260</td>\n",
              "      <td>3.688704</td>\n",
              "      <td>3.517471</td>\n",
              "      <td>3.507244</td>\n",
              "      <td>3.485300</td>\n",
              "      <td>3.503254</td>\n",
              "      <td>376938.330708</td>\n",
              "      <td>141005.726544</td>\n",
              "      <td>1.089491e+07</td>\n",
              "    </tr>\n",
              "    <tr>\n",
              "      <th>std</th>\n",
              "      <td>457.410902</td>\n",
              "      <td>57.403110</td>\n",
              "      <td>0.802902</td>\n",
              "      <td>0.409639</td>\n",
              "      <td>1.019099</td>\n",
              "      <td>0.891972</td>\n",
              "      <td>0.897834</td>\n",
              "      <td>0.887266</td>\n",
              "      <td>0.527223</td>\n",
              "      <td>143070.662010</td>\n",
              "      <td>78768.093718</td>\n",
              "      <td>3.768603e+06</td>\n",
              "    </tr>\n",
              "    <tr>\n",
              "      <th>min</th>\n",
              "      <td>500.000000</td>\n",
              "      <td>0.000000</td>\n",
              "      <td>1.000000</td>\n",
              "      <td>1.000000</td>\n",
              "      <td>2.000000</td>\n",
              "      <td>2.000000</td>\n",
              "      <td>2.000000</td>\n",
              "      <td>2.000000</td>\n",
              "      <td>2.000000</td>\n",
              "      <td>71177.000000</td>\n",
              "      <td>5055.000000</td>\n",
              "      <td>2.156875e+06</td>\n",
              "    </tr>\n",
              "    <tr>\n",
              "      <th>25%</th>\n",
              "      <td>993.000000</td>\n",
              "      <td>50.000000</td>\n",
              "      <td>1.000000</td>\n",
              "      <td>1.000000</td>\n",
              "      <td>3.000000</td>\n",
              "      <td>2.700000</td>\n",
              "      <td>2.700000</td>\n",
              "      <td>2.700000</td>\n",
              "      <td>3.130000</td>\n",
              "      <td>272406.000000</td>\n",
              "      <td>84219.000000</td>\n",
              "      <td>8.272100e+06</td>\n",
              "    </tr>\n",
              "    <tr>\n",
              "      <th>50%</th>\n",
              "      <td>1373.000000</td>\n",
              "      <td>99.000000</td>\n",
              "      <td>1.000000</td>\n",
              "      <td>1.000000</td>\n",
              "      <td>4.000000</td>\n",
              "      <td>3.500000</td>\n",
              "      <td>3.500000</td>\n",
              "      <td>3.500000</td>\n",
              "      <td>3.500000</td>\n",
              "      <td>349486.000000</td>\n",
              "      <td>127628.000000</td>\n",
              "      <td>1.033505e+07</td>\n",
              "    </tr>\n",
              "    <tr>\n",
              "      <th>75%</th>\n",
              "      <td>1744.000000</td>\n",
              "      <td>148.000000</td>\n",
              "      <td>2.000000</td>\n",
              "      <td>1.000000</td>\n",
              "      <td>4.000000</td>\n",
              "      <td>4.300000</td>\n",
              "      <td>4.300000</td>\n",
              "      <td>4.300000</td>\n",
              "      <td>3.890000</td>\n",
              "      <td>451562.000000</td>\n",
              "      <td>184506.000000</td>\n",
              "      <td>1.299390e+07</td>\n",
              "    </tr>\n",
              "    <tr>\n",
              "      <th>max</th>\n",
              "      <td>2500.000000</td>\n",
              "      <td>200.000000</td>\n",
              "      <td>4.000000</td>\n",
              "      <td>2.000000</td>\n",
              "      <td>6.000000</td>\n",
              "      <td>5.000000</td>\n",
              "      <td>5.000000</td>\n",
              "      <td>5.000000</td>\n",
              "      <td>4.970000</td>\n",
              "      <td>983922.000000</td>\n",
              "      <td>495405.000000</td>\n",
              "      <td>2.366734e+07</td>\n",
              "    </tr>\n",
              "  </tbody>\n",
              "</table>\n",
              "</div>\n",
              "      <button class=\"colab-df-convert\" onclick=\"convertToInteractive('df-e995e155-e8ba-4b5d-9730-1157c6f6088a')\"\n",
              "              title=\"Convert this dataframe to an interactive table.\"\n",
              "              style=\"display:none;\">\n",
              "        \n",
              "  <svg xmlns=\"http://www.w3.org/2000/svg\" height=\"24px\"viewBox=\"0 0 24 24\"\n",
              "       width=\"24px\">\n",
              "    <path d=\"M0 0h24v24H0V0z\" fill=\"none\"/>\n",
              "    <path d=\"M18.56 5.44l.94 2.06.94-2.06 2.06-.94-2.06-.94-.94-2.06-.94 2.06-2.06.94zm-11 1L8.5 8.5l.94-2.06 2.06-.94-2.06-.94L8.5 2.5l-.94 2.06-2.06.94zm10 10l.94 2.06.94-2.06 2.06-.94-2.06-.94-.94-2.06-.94 2.06-2.06.94z\"/><path d=\"M17.41 7.96l-1.37-1.37c-.4-.4-.92-.59-1.43-.59-.52 0-1.04.2-1.43.59L10.3 9.45l-7.72 7.72c-.78.78-.78 2.05 0 2.83L4 21.41c.39.39.9.59 1.41.59.51 0 1.02-.2 1.41-.59l7.78-7.78 2.81-2.81c.8-.78.8-2.07 0-2.86zM5.41 20L4 18.59l7.72-7.72 1.47 1.35L5.41 20z\"/>\n",
              "  </svg>\n",
              "      </button>\n",
              "      \n",
              "  <style>\n",
              "    .colab-df-container {\n",
              "      display:flex;\n",
              "      flex-wrap:wrap;\n",
              "      gap: 12px;\n",
              "    }\n",
              "\n",
              "    .colab-df-convert {\n",
              "      background-color: #E8F0FE;\n",
              "      border: none;\n",
              "      border-radius: 50%;\n",
              "      cursor: pointer;\n",
              "      display: none;\n",
              "      fill: #1967D2;\n",
              "      height: 32px;\n",
              "      padding: 0 0 0 0;\n",
              "      width: 32px;\n",
              "    }\n",
              "\n",
              "    .colab-df-convert:hover {\n",
              "      background-color: #E2EBFA;\n",
              "      box-shadow: 0px 1px 2px rgba(60, 64, 67, 0.3), 0px 1px 3px 1px rgba(60, 64, 67, 0.15);\n",
              "      fill: #174EA6;\n",
              "    }\n",
              "\n",
              "    [theme=dark] .colab-df-convert {\n",
              "      background-color: #3B4455;\n",
              "      fill: #D2E3FC;\n",
              "    }\n",
              "\n",
              "    [theme=dark] .colab-df-convert:hover {\n",
              "      background-color: #434B5C;\n",
              "      box-shadow: 0px 1px 3px 1px rgba(0, 0, 0, 0.15);\n",
              "      filter: drop-shadow(0px 1px 2px rgba(0, 0, 0, 0.3));\n",
              "      fill: #FFFFFF;\n",
              "    }\n",
              "  </style>\n",
              "\n",
              "      <script>\n",
              "        const buttonEl =\n",
              "          document.querySelector('#df-e995e155-e8ba-4b5d-9730-1157c6f6088a button.colab-df-convert');\n",
              "        buttonEl.style.display =\n",
              "          google.colab.kernel.accessAllowed ? 'block' : 'none';\n",
              "\n",
              "        async function convertToInteractive(key) {\n",
              "          const element = document.querySelector('#df-e995e155-e8ba-4b5d-9730-1157c6f6088a');\n",
              "          const dataTable =\n",
              "            await google.colab.kernel.invokeFunction('convertToInteractive',\n",
              "                                                     [key], {});\n",
              "          if (!dataTable) return;\n",
              "\n",
              "          const docLinkHtml = 'Like what you see? Visit the ' +\n",
              "            '<a target=\"_blank\" href=https://colab.research.google.com/notebooks/data_table.ipynb>data table notebook</a>'\n",
              "            + ' to learn more about interactive tables.';\n",
              "          element.innerHTML = '';\n",
              "          dataTable['output_type'] = 'display_data';\n",
              "          await google.colab.output.renderOutput(dataTable, element);\n",
              "          const docLink = document.createElement('div');\n",
              "          docLink.innerHTML = docLinkHtml;\n",
              "          element.appendChild(docLink);\n",
              "        }\n",
              "      </script>\n",
              "    </div>\n",
              "  </div>\n",
              "  "
            ]
          },
          "metadata": {},
          "execution_count": 3
        }
      ],
      "source": [
        "#Understanding the dataset\n",
        "df.describe()"
      ]
    },
    {
      "cell_type": "code",
      "execution_count": null,
      "metadata": {
        "colab": {
          "base_uri": "https://localhost:8080/"
        },
        "id": "5BFMIoaCWf60",
        "outputId": "8d72254c-5334-4478-bcd4-6f2fb3cdca30"
      },
      "outputs": [
        {
          "output_type": "stream",
          "name": "stdout",
          "text": [
            "<class 'pandas.core.frame.DataFrame'>\n",
            "RangeIndex: 7109 entries, 0 to 7108\n",
            "Data columns (total 22 columns):\n",
            " #   Column         Non-Null Count  Dtype  \n",
            "---  ------         --------------  -----  \n",
            " 0   PRT_ID         7109 non-null   object \n",
            " 1   AREA           7109 non-null   object \n",
            " 2   INT_SQFT       7109 non-null   int64  \n",
            " 3   DATE_SALE      7109 non-null   object \n",
            " 4   DIST_MAINROAD  7109 non-null   int64  \n",
            " 5   N_BEDROOM      7108 non-null   float64\n",
            " 6   N_BATHROOM     7104 non-null   float64\n",
            " 7   N_ROOM         7109 non-null   int64  \n",
            " 8   SALE_COND      7109 non-null   object \n",
            " 9   PARK_FACIL     7109 non-null   object \n",
            " 10  DATE_BUILD     7109 non-null   object \n",
            " 11  BUILDTYPE      7109 non-null   object \n",
            " 12  UTILITY_AVAIL  7109 non-null   object \n",
            " 13  STREET         7109 non-null   object \n",
            " 14  MZZONE         7109 non-null   object \n",
            " 15  QS_ROOMS       7109 non-null   float64\n",
            " 16  QS_BATHROOM    7109 non-null   float64\n",
            " 17  QS_BEDROOM     7109 non-null   float64\n",
            " 18  QS_OVERALL     7061 non-null   float64\n",
            " 19  REG_FEE        7109 non-null   int64  \n",
            " 20  COMMIS         7109 non-null   int64  \n",
            " 21  SALES_PRICE    7109 non-null   int64  \n",
            "dtypes: float64(6), int64(6), object(10)\n",
            "memory usage: 1.2+ MB\n"
          ]
        }
      ],
      "source": [
        "#Understanding the dataset\n",
        "df.info()"
      ]
    },
    {
      "cell_type": "code",
      "execution_count": null,
      "metadata": {
        "colab": {
          "base_uri": "https://localhost:8080/"
        },
        "id": "Ca_X5WjsB7lA",
        "outputId": "917f1a76-fd41-4326-9872-11d055919e12"
      },
      "outputs": [
        {
          "output_type": "execute_result",
          "data": {
            "text/plain": [
              "PRT_ID            0\n",
              "AREA              0\n",
              "INT_SQFT          0\n",
              "DATE_SALE         0\n",
              "DIST_MAINROAD     0\n",
              "N_BEDROOM         1\n",
              "N_BATHROOM        5\n",
              "N_ROOM            0\n",
              "SALE_COND         0\n",
              "PARK_FACIL        0\n",
              "DATE_BUILD        0\n",
              "BUILDTYPE         0\n",
              "UTILITY_AVAIL     0\n",
              "STREET            0\n",
              "MZZONE            0\n",
              "QS_ROOMS          0\n",
              "QS_BATHROOM       0\n",
              "QS_BEDROOM        0\n",
              "QS_OVERALL       48\n",
              "REG_FEE           0\n",
              "COMMIS            0\n",
              "SALES_PRICE       0\n",
              "dtype: int64"
            ]
          },
          "metadata": {},
          "execution_count": 5
        }
      ],
      "source": [
        "#Checking for NAN values\n",
        "df.isnull().sum()"
      ]
    },
    {
      "cell_type": "code",
      "execution_count": null,
      "metadata": {
        "id": "WbSb_HjrCEa2"
      },
      "outputs": [],
      "source": [
        "#Filling NAN values\n",
        "df[\"N_BEDROOM\"]=df[\"N_BEDROOM\"].fillna(df[\"N_BEDROOM\"].mode()[0])\n",
        "df[\"N_BATHROOM\"]=df[\"N_BATHROOM\"].fillna(df[\"N_BATHROOM\"].mode()[0])\n",
        "df[\"QS_OVERALL\"]=df[\"QS_OVERALL\"].fillna(df[\"QS_OVERALL\"].mean())"
      ]
    },
    {
      "cell_type": "code",
      "execution_count": null,
      "metadata": {
        "id": "fZXI1SJEA5dK"
      },
      "outputs": [],
      "source": [
        "#Changing some data types and also changing some columns\n",
        "df[\"N_BEDROOM\"]=df[\"N_BEDROOM\"].astype(\"int64\")\n",
        "df[\"N_BATHROOM\"]=df[\"N_BATHROOM\"].astype(\"int64\")\n",
        "df[\"DATE_SALE\"]=pd.to_datetime(df[\"DATE_SALE\"])\n",
        "df[\"DATE_BUILD\"]=pd.to_datetime(df[\"DATE_BUILD\"])\n",
        "df[\"YEAR_SALE\"]=df[\"DATE_SALE\"].dt.year\n",
        "df[\"YEAR_BUILD\"]=df[\"DATE_BUILD\"].dt.year\n",
        "df[\"AGE_SOLD\"]=df[\"YEAR_SALE\"]-df[\"YEAR_BUILD\"]\n",
        "df.drop([\"DATE_SALE\",\"DATE_BUILD\",\"YEAR_SALE\",\"YEAR_BUILD\"],axis=1,inplace=True)\n",
        "df[\"TOTAL_SALES_PRICE\"]=df[\"SALES_PRICE\"]+df[\"COMMIS\"]+df[\"REG_FEE\"]\n",
        "df=df.drop([\"PRT_ID\",\"REG_FEE\",\"COMMIS\",\"SALES_PRICE\"],axis=1)"
      ]
    },
    {
      "cell_type": "code",
      "execution_count": null,
      "metadata": {
        "colab": {
          "base_uri": "https://localhost:8080/"
        },
        "id": "DkZSsvq7sbjL",
        "outputId": "67e7f6ca-a3c5-45a3-8a03-6b9bf7da6299"
      },
      "outputs": [
        {
          "output_type": "execute_result",
          "data": {
            "text/plain": [
              "array(['Karapakkam', 'Anna Nagar', 'Adyar', 'Velachery', 'Chrompet',\n",
              "       'KK Nagar', 'TNagar', 'T Nagar', 'Chrompt', 'Chrmpet', 'Karapakam',\n",
              "       'Ana Nagar', 'Chormpet', 'Adyr', 'Velchery', 'Ann Nagar',\n",
              "       'KKNagar'], dtype=object)"
            ]
          },
          "metadata": {},
          "execution_count": 8
        }
      ],
      "source": [
        "df[\"AREA\"].unique()"
      ]
    },
    {
      "cell_type": "code",
      "execution_count": null,
      "metadata": {
        "id": "XmFGq8a5xhzj"
      },
      "outputs": [],
      "source": [
        "df[\"AREA\"].replace([\"Ana Nagar\",\"Ann Nagar\",\"Adyr\",\"Chrompt\",\"Chrmpet\",\"Chormpet\",\"Karapakam\",\"KKNagar\",\"Velchery\",\"TNagar\"],\n",
        "[\"Anna Nagar\",\"Anna Nagar\",\"Adyar\",\"Chrompet\",\"Chrompet\",\"Chrompet\",\"Karapakkam\",\"KK Nagar\",\"Velachery\",\"T Nagar\"],\n",
        "inplace=True)"
      ]
    },
    {
      "cell_type": "code",
      "execution_count": null,
      "metadata": {
        "colab": {
          "base_uri": "https://localhost:8080/"
        },
        "id": "a3-KKWjJyfgh",
        "outputId": "a51c3537-0ad1-4eaa-a5c1-9e1c9adc5d43"
      },
      "outputs": [
        {
          "output_type": "execute_result",
          "data": {
            "text/plain": [
              "array(['AbNormal', 'Family', 'Partial', 'AdjLand', 'Normal Sale',\n",
              "       'Ab Normal', 'Partiall', 'Adj Land', 'PartiaLl'], dtype=object)"
            ]
          },
          "metadata": {},
          "execution_count": 10
        }
      ],
      "source": [
        "df[\"SALE_COND\"].unique()"
      ]
    },
    {
      "cell_type": "code",
      "execution_count": null,
      "metadata": {
        "id": "VVeeVwXjyQEe"
      },
      "outputs": [],
      "source": [
        "df[\"SALE_COND\"].replace([\"Ab Normal\",\"Adj Land\",\"Partiall\",\"PartiaLl\"],[\"AbNormal\",\"AdjLand\",\"Partial\",\"Partial\"],inplace=True)"
      ]
    },
    {
      "cell_type": "code",
      "execution_count": null,
      "metadata": {
        "colab": {
          "base_uri": "https://localhost:8080/"
        },
        "id": "HgD8kgekyuoC",
        "outputId": "6f2cadac-8fc9-489e-ebba-1200f5e8b5dd"
      },
      "outputs": [
        {
          "output_type": "execute_result",
          "data": {
            "text/plain": [
              "array(['Yes', 'No', 'Noo'], dtype=object)"
            ]
          },
          "metadata": {},
          "execution_count": 12
        }
      ],
      "source": [
        "df[\"PARK_FACIL\"].unique()"
      ]
    },
    {
      "cell_type": "code",
      "execution_count": null,
      "metadata": {
        "id": "dP0tS3l9yxd5"
      },
      "outputs": [],
      "source": [
        "df[\"PARK_FACIL\"].replace([\"Noo\"],[\"No\"],inplace=True)"
      ]
    },
    {
      "cell_type": "code",
      "execution_count": null,
      "metadata": {
        "colab": {
          "base_uri": "https://localhost:8080/"
        },
        "id": "82pkQH9by-Ub",
        "outputId": "69e24e56-bcc7-4390-d5b2-be0b361becc5"
      },
      "outputs": [
        {
          "output_type": "execute_result",
          "data": {
            "text/plain": [
              "array(['Commercial', 'Others', 'Other', 'House', 'Comercial'],\n",
              "      dtype=object)"
            ]
          },
          "metadata": {},
          "execution_count": 14
        }
      ],
      "source": [
        "df[\"BUILDTYPE\"].unique()"
      ]
    },
    {
      "cell_type": "code",
      "execution_count": null,
      "metadata": {
        "id": "84ldwdjKzA8h"
      },
      "outputs": [],
      "source": [
        "df[\"BUILDTYPE\"].replace([\"Comercial\",\"Other\"],[\"Commercial\",\"Others\"],inplace=True)"
      ]
    },
    {
      "cell_type": "code",
      "execution_count": null,
      "metadata": {
        "colab": {
          "base_uri": "https://localhost:8080/"
        },
        "id": "vLSd9T1OzNbq",
        "outputId": "ce79ef4a-dad9-4c3e-fb71-e4a097c3f9b9"
      },
      "outputs": [
        {
          "output_type": "execute_result",
          "data": {
            "text/plain": [
              "array(['AllPub', 'ELO', 'NoSewr ', 'NoSeWa', 'All Pub'], dtype=object)"
            ]
          },
          "metadata": {},
          "execution_count": 16
        }
      ],
      "source": [
        "df[\"UTILITY_AVAIL\"].unique()"
      ]
    },
    {
      "cell_type": "code",
      "execution_count": null,
      "metadata": {
        "id": "6jLfCCJ3zQCj"
      },
      "outputs": [],
      "source": [
        "df[\"UTILITY_AVAIL\"].replace([\"All Pub\",\"NoSewr \",\"NoSeWa\"],[\"AllPub\",\"No Sewer\",\"No Sewer\"],inplace=True)"
      ]
    },
    {
      "cell_type": "code",
      "execution_count": null,
      "metadata": {
        "colab": {
          "base_uri": "https://localhost:8080/"
        },
        "id": "TfGjpOlbz_pp",
        "outputId": "97c43bc6-0da9-4216-9e72-07442069e73c"
      },
      "outputs": [
        {
          "output_type": "execute_result",
          "data": {
            "text/plain": [
              "array(['Paved', 'Gravel', 'No Access', 'Pavd', 'NoAccess'], dtype=object)"
            ]
          },
          "metadata": {},
          "execution_count": 18
        }
      ],
      "source": [
        "df[\"STREET\"].unique()"
      ]
    },
    {
      "cell_type": "code",
      "execution_count": null,
      "metadata": {
        "id": "TAay7Dhmz1LD"
      },
      "outputs": [],
      "source": [
        "df[\"STREET\"].replace([\"NoAccess\",\"Pavd\"],[\"No Access\",\"Paved\"],inplace=True)"
      ]
    },
    {
      "cell_type": "markdown",
      "metadata": {
        "id": "Guj3ecaav59a"
      },
      "source": [
        "#**data visualization**"
      ]
    },
    {
      "cell_type": "code",
      "execution_count": null,
      "metadata": {
        "id": "pP8r3yV84Ems"
      },
      "outputs": [],
      "source": [
        "#Preparing data for plotting\n",
        "a0=df[\"AREA\"].value_counts()\n",
        "b0=df[\"BUILDTYPE\"].value_counts()\n",
        "c0=df[\"MZZONE\"].value_counts()\n",
        "d0=df[\"N_BEDROOM\"].value_counts()\n",
        "e0=df[\"N_BATHROOM\"].value_counts()\n",
        "f0=df[\"PARK_FACIL\"].value_counts()\n",
        "g0=df[\"SALE_COND\"].value_counts()\n",
        "h0=df[\"STREET\"].value_counts()\n",
        "i0=df[\"UTILITY_AVAIL\"].value_counts()"
      ]
    },
    {
      "cell_type": "code",
      "execution_count": null,
      "metadata": {
        "colab": {
          "base_uri": "https://localhost:8080/",
          "height": 1000
        },
        "id": "l2LAYq-a3U6S",
        "outputId": "6dcaa0eb-23f3-4287-fb5e-e94f25b0f128"
      },
      "outputs": [
        {
          "output_type": "display_data",
          "data": {
            "text/plain": [
              "<Figure size 1440x1440 with 9 Axes>"
            ],
            "image/png": "[encoded data removed]"
          },
          "metadata": {
            "needs_background": "light"
          }
        }
      ],
      "source": [
        "#Plotting\n",
        "plt.figure(figsize=(20,20))\n",
        "plt.subplot(331)\n",
        "sns.barplot(x=a0.index,y=a0.values)\n",
        "plt.title(\"NO_OF_CONSTRUCTIONS_(AREA_WISE)\")\n",
        "plt.xticks(rotation=14)\n",
        "plt.xlabel(\"AREA\")\n",
        "plt.ylabel(\"count\")\n",
        "plt.subplot(332)\n",
        "sns.barplot(x=b0.index,y=b0.values)\n",
        "plt.title(\"NO_OF_CONSTRUCTIONS_(BUILDTYPE_WISE)\")\n",
        "plt.xticks(rotation=14)\n",
        "plt.xlabel(\"BUILDTYPE\")\n",
        "plt.ylabel(\"count\")\n",
        "plt.subplot(333)\n",
        "sns.barplot(x=c0.index,y=c0.values)\n",
        "plt.title(\"NO_OF_CONSTRUCTIONS_(MZZONE_WISE)\")\n",
        "plt.xticks(rotation=14)\n",
        "plt.xlabel(\"MZZONE\")\n",
        "plt.ylabel(\"count\")\n",
        "plt.subplot(334)\n",
        "sns.barplot(x=d0.index,y=d0.values)\n",
        "plt.title(\"NO_OF_CONSTRUCTIONS_(N_BEDROOM_WISE)\")\n",
        "plt.xticks(rotation=14)\n",
        "plt.xlabel(\"N_BEDROOM\")\n",
        "plt.ylabel(\"count\")\n",
        "plt.subplot(335)\n",
        "sns.barplot(x=e0.index,y=e0.values)\n",
        "plt.title(\"NO_OF_CONSTRUCTIONS_(N_BATHROOM_WISE)\")\n",
        "plt.xticks(rotation=14)\n",
        "plt.xlabel(\"N_BATHROOM\")\n",
        "plt.ylabel(\"count\")\n",
        "plt.subplot(336)\n",
        "sns.barplot(x=f0.index,y=f0.values)\n",
        "plt.title(\"NO_OF_CONSTRUCTIONS_(PARK_FACIL_WISE)\")\n",
        "plt.xticks(rotation=14)\n",
        "plt.xlabel(\"PARK_FACIL\")\n",
        "plt.ylabel(\"count\")\n",
        "plt.subplot(337)\n",
        "sns.barplot(x=g0.index,y=g0.values)\n",
        "plt.title(\"NO_OF_CONSTRUCTIONS_(SALE_COND_WISE)\")\n",
        "plt.xticks(rotation=14)\n",
        "plt.xlabel(\"SALE_COND\")\n",
        "plt.ylabel(\"count\")\n",
        "plt.subplot(338)\n",
        "sns.barplot(x=h0.index,y=h0.values)\n",
        "plt.title(\"NO_OF_CONSTRUCTIONS_(STREET_WISE)\")\n",
        "plt.xticks(rotation=14)\n",
        "plt.xlabel(\"STREET\")\n",
        "plt.ylabel(\"count\")\n",
        "plt.subplot(339)\n",
        "sns.barplot(x=i0.index,y=i0.values)\n",
        "plt.title(\"NO_OF_CONSTRUCTIONS_(UTILITY_AVAIL_WISE)\")\n",
        "plt.xticks(rotation=14)\n",
        "plt.xlabel(\"UTILITY_AVAIL\")\n",
        "plt.ylabel(\"count\")\n",
        "plt.show()\n"
      ]
    },
    {
      "cell_type": "code",
      "execution_count": null,
      "metadata": {
        "id": "jKxUwrqW8mfI"
      },
      "outputs": [],
      "source": [
        "#Preparing for plotting\n",
        "a1=df.groupby(\"AREA\")[\"TOTAL_SALES_PRICE\"].mean().sort_values()\n",
        "b1=df.groupby(\"BUILDTYPE\")[\"TOTAL_SALES_PRICE\"].mean().sort_values()\n",
        "c1=df.groupby(\"MZZONE\")[\"TOTAL_SALES_PRICE\"].mean().sort_values()\n",
        "d1=df.groupby(\"N_BEDROOM\")[\"TOTAL_SALES_PRICE\"].mean().sort_values()\n",
        "e1=df.groupby(\"N_BATHROOM\")[\"TOTAL_SALES_PRICE\"].mean().sort_values()\n",
        "f1=df.groupby(\"PARK_FACIL\")[\"TOTAL_SALES_PRICE\"].mean().sort_values()\n",
        "g1=df.groupby(\"SALE_COND\")[\"TOTAL_SALES_PRICE\"].mean().sort_values()\n",
        "h1=df.groupby(\"STREET\")[\"TOTAL_SALES_PRICE\"].mean().sort_values()\n",
        "i1=df.groupby(\"UTILITY_AVAIL\")[\"TOTAL_SALES_PRICE\"].mean().sort_values()"
      ]
    },
    {
      "cell_type": "code",
      "execution_count": null,
      "metadata": {
        "colab": {
          "base_uri": "https://localhost:8080/",
          "height": 1000
        },
        "id": "Nxzx70wm7DBj",
        "outputId": "f905d5a8-dfcd-4ff5-9b01-08a264739190"
      },
      "outputs": [
        {
          "output_type": "display_data",
          "data": {
            "text/plain": [
              "<Figure size 1440x1440 with 9 Axes>"
            ],
            "image/png": "[encoded data removed]"
          },
          "metadata": {
            "needs_background": "light"
          }
        }
      ],
      "source": [
        "#Plotting\n",
        "plt.figure(figsize=(20,20))\n",
        "plt.subplot(331)\n",
        "sns.barplot(x=a1.index,y=a1.values)\n",
        "plt.title(\"MEAN_PRICE_(AREA_WISE)\")\n",
        "plt.xticks(rotation=14)\n",
        "plt.ylabel(\"mean_price\")\n",
        "plt.subplot(332)\n",
        "sns.barplot(x=b1.index,y=b1.values)\n",
        "plt.title(\"MEAN_PRICE_(BUILDTYPE_WISE)\")\n",
        "plt.xticks(rotation=14)\n",
        "plt.ylabel(\"mean_price\")\n",
        "plt.subplot(333)\n",
        "sns.barplot(x=c1.index,y=c1.values)\n",
        "plt.title(\"MEAN_PRICE_(MZZONE_WISE)\")\n",
        "plt.xticks(rotation=14)\n",
        "plt.ylabel(\"mean_price\")\n",
        "plt.subplot(334)\n",
        "sns.barplot(x=d1.index,y=d1.values)\n",
        "plt.title(\"MEAN_PRICE_(N_BEDROOM_WISE)\")\n",
        "plt.xticks(rotation=14)\n",
        "plt.ylabel(\"mean_price\")\n",
        "plt.subplot(335)\n",
        "sns.barplot(x=e1.index,y=e1.values)\n",
        "plt.title(\"MEAN_PRICE_(N_BATHROOM_WISE)\")\n",
        "plt.xticks(rotation=14)\n",
        "plt.ylabel(\"mean_price\")\n",
        "plt.subplot(336)\n",
        "sns.barplot(x=f1.index,y=f1.values)\n",
        "plt.title(\"MEAN_PRICE_(PARK_FACIL_WISE)\")\n",
        "plt.xticks(rotation=14)\n",
        "plt.ylabel(\"mean_price\")\n",
        "plt.subplot(337)\n",
        "sns.barplot(x=g1.index,y=g1.values)\n",
        "plt.title(\"MEAN_PRICE_(SALE_COND_WISE)\")\n",
        "plt.xticks(rotation=14)\n",
        "plt.ylabel(\"mean_price\")\n",
        "plt.subplot(338)\n",
        "sns.barplot(x=h1.index,y=h1.values)\n",
        "plt.title(\"MEAN_PRICE_(STREET_WISE)\")\n",
        "plt.xticks(rotation=14)\n",
        "plt.ylabel(\"mean_price\")\n",
        "plt.subplot(339)\n",
        "sns.barplot(x=i1.index,y=i1.values)\n",
        "plt.title(\"MEAN_PRICE_(UTILITY_AVAIL_WISE)\")\n",
        "plt.xticks(rotation=14)\n",
        "plt.ylabel(\"mean_price\")\n",
        "plt.show()\n"
      ]
    },
    {
      "cell_type": "markdown",
      "metadata": {
        "id": "2P071_cTwbw-"
      },
      "source": [
        "#**data preprocessing**"
      ]
    },
    {
      "cell_type": "code",
      "execution_count": null,
      "metadata": {
        "id": "XmN6tKGCOAXY"
      },
      "outputs": [],
      "source": [
        "#Manual encoding\n",
        "df[\"AREA\"].replace(a1.index,[0,1,2,3,4,5,6],inplace=True)\n",
        "df[\"BUILDTYPE\"].replace(b1.index,[0,1,2],inplace=True)\n",
        "df[\"MZZONE\"].replace(c1.index,[0,1,2,3,4,5],inplace=True)\n",
        "df[\"PARK_FACIL\"].replace(f1.index,[0,1],inplace=True)\n",
        "df[\"SALE_COND\"].replace(g1.index,[0,1,2,3,4],inplace=True)\n",
        "df[\"STREET\"].replace(h1.index,[0,1,2],inplace=True)\n",
        "df[\"UTILITY_AVAIL\"].replace(i1.index,[0,1,2],inplace=True)"
      ]
    },
    {
      "cell_type": "code",
      "source": [
        "#Split into features and target \n",
        "X=df.drop(columns=\"TOTAL_SALES_PRICE\")\n",
        "y=df[\"TOTAL_SALES_PRICE\"]"
      ],
      "metadata": {
        "id": "4qFdYTb8mF49"
      },
      "execution_count": null,
      "outputs": []
    },
    {
      "cell_type": "code",
      "source": [
        "#Split into train and test\n",
        "X_train,X_test,y_train,y_test=train_test_split(X,y,random_state=47)"
      ],
      "metadata": {
        "id": "Q6N0u2abmKsO"
      },
      "execution_count": null,
      "outputs": []
    },
    {
      "cell_type": "code",
      "source": [
        "#Scaling\n",
        "slr=StandardScaler()\n",
        "slr.fit(X_train)\n",
        "X_train_scaled=slr.transform(X_train)\n",
        "X_test_scaled=slr.transform(X_test)"
      ],
      "metadata": {
        "id": "jz0KuMXYkcAR"
      },
      "execution_count": null,
      "outputs": []
    },
    {
      "cell_type": "markdown",
      "metadata": {
        "id": "YyVtCiPPe_gh"
      },
      "source": [
        "#**machine learning**"
      ]
    },
    {
      "cell_type": "code",
      "execution_count": null,
      "metadata": {
        "colab": {
          "base_uri": "https://localhost:8080/"
        },
        "id": "dEYJeATInE1d",
        "outputId": "d1f6285d-199f-4a00-8328-332960827669"
      },
      "outputs": [
        {
          "output_type": "stream",
          "name": "stdout",
          "text": [
            "0.8852353747214387\n",
            "0.8805487107402163\n"
          ]
        }
      ],
      "source": [
        "#Linear regression\n",
        "lr=LinearRegression()\n",
        "lr.fit(X_train_scaled,y_train)\n",
        "#lr_y_pred=lr.predict(X_test_scaled)\n",
        "print(lr.score(X_train_scaled,y_train))\n",
        "print(lr.score(X_test_scaled,y_test))"
      ]
    },
    {
      "cell_type": "code",
      "execution_count": null,
      "metadata": {
        "colab": {
          "base_uri": "https://localhost:8080/"
        },
        "id": "iqSyWYqtY72c",
        "outputId": "e72e76ec-c998-41a0-b472-1014764be08e"
      },
      "outputs": [
        {
          "output_type": "stream",
          "name": "stdout",
          "text": [
            "1 0.4057723699672944 0.40188409044449236\n",
            "2 0.6338384475004769 0.6312835041142073\n",
            "3 0.769928262995493 0.7681570633286238\n",
            "4 0.8519617630628744 0.8492703842629158\n",
            "5 0.9003011914205408 0.8957508576376263\n",
            "6 0.9334237808749029 0.9270560750605198\n",
            "7 0.9537228649462097 0.9458043421738929\n",
            "8 0.9680138876409354 0.9578589030594487\n",
            "9 0.9786881584458546 0.9665564184586817\n",
            "10 0.9855650828689814 0.971339553049013\n",
            "11 0.990234192723523 0.9746493834704117\n",
            "12 0.993316565796891 0.977039274139347\n",
            "13 0.9950425576601026 0.9778787883571582\n",
            "14 0.9961726787040088 0.9789052242201379\n",
            "15 0.996676129965151 0.9789227053625555\n",
            "16 0.9969791872405306 0.9794118485913871\n",
            "17 0.9971091287124857 0.9795961207618549\n",
            "18 0.9971982724835795 0.9796242277130293\n",
            "19 0.997140382703444 0.9793742186786794\n",
            "20 0.99720265734457 0.9795065182831861\n",
            "21 0.9971710649706295 0.9793198768656127\n",
            "22 0.9971856622838084 0.9796906719872199\n",
            "23 0.9971796376999238 0.9796428728948215\n",
            "24 0.997180020233704 0.9796172750962966\n",
            "25 0.9971873621347219 0.9796078166538428\n",
            "26 0.9971981893803443 0.9796885060186183\n",
            "27 0.9971831434236884 0.9795630218934241\n",
            "28 0.9971843890172609 0.979621678776956\n",
            "29 0.9971850437982378 0.9796141836310809\n"
          ]
        }
      ],
      "source": [
        "rfr_trn_r=[]\n",
        "rfr_tes_r=[]\n",
        "mx_d=[]\n",
        "for i in range(1,30):\n",
        "  rfr=RandomForestRegressor(n_estimators=500,max_depth=i,max_features='sqrt',random_state=47)\n",
        "  rfr.fit(X_train_scaled,y_train)\n",
        "  rfr_trn_r.append(rfr.score(X_train_scaled,y_train))\n",
        "  rfr_tes_r.append(rfr.score(X_test_scaled,y_test))\n",
        "  mx_d.append(i)\n",
        "for i,j,k in zip(mx_d,rfr_trn_r,rfr_tes_r):\n",
        "  print(i,j,k)"
      ]
    },
    {
      "cell_type": "code",
      "execution_count": null,
      "metadata": {
        "colab": {
          "base_uri": "https://localhost:8080/"
        },
        "id": "tTxi0HT8-pMU",
        "outputId": "3d09a35a-7825-4a80-997d-b14046f6b11b"
      },
      "outputs": [
        {
          "output_type": "stream",
          "name": "stdout",
          "text": [
            "[15:41:49] WARNING: /workspace/src/objective/regression_obj.cu:152: reg:linear is now deprecated in favor of reg:squarederror.\n",
            "0.9917912402270945\n",
            "0.9894966695203846\n"
          ]
        }
      ],
      "source": [
        "#XGBoost XGBRegressor\n",
        "xgr=XGBRegressor()\n",
        "xgr.fit(X_train_scaled,y_train)\n",
        "#xgr_y_pred=xgr.predict(X_test_scaled)\n",
        "print(xgr.score(X_train_scaled,y_train))\n",
        "print(xgr.score(X_test_scaled,y_test))"
      ]
    },
    {
      "cell_type": "markdown",
      "source": [
        "#**conclusion**\n",
        "Data cleaning, data visualization and data preprocessing has been done after that built a machine learning model using linear regression, random forest regressor and xgboost regressor among these xgboost regressor had given good score.\n",
        "\n",
        "If somebody wants to buy a house they should ask themselves some questions, for example if somebody wants to buy a house in a particular area, from data we can get maximum house price and minimum house price in that area and we can get a price range in that area."
      ],
      "metadata": {
        "id": "RinSHi3v1znz"
      }
    }
  ],
  "metadata": {
    "colab": {
      "name": "House_Price_Prediction1.ipynb",
      "provenance": []
    },
    "kernelspec": {
      "display_name": "Python 3",
      "name": "python3"
    },
    "language_info": {
      "name": "python"
    }
  },
  "nbformat": 4,
  "nbformat_minor": 0
}